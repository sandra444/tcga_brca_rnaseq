{
 "cells": [
  {
   "cell_type": "markdown",
   "metadata": {},
   "source": [
    "# Visualize and annotate DESeq2 results"
   ]
  },
  {
   "cell_type": "markdown",
   "metadata": {},
   "source": [
    "## Review our pipeline\n",
    "In the pipeline image, the red text indicates the names of the R packages we will use to perform the analysis, the yellow boxes indicate the data (raw or processed), and the grey indicates what we will do in each step. Note that we will use [DESeq2](https://bioconductor.org/packages/release/bioc/html/DESeq2.html) to identify differentially expressed genes (DEGs). This is a highly cited package that uses a negative binomial distribution to calculate DEGs. However, there are multiple pipelines and programs to do this. [Knoweng](http://education.knoweng.org/sequenceng/) has a nice interface to explore other options, including the strengths and weaknesses of each.\n",
    "![](https://github.com/davidnboone/test-image/blob/master/overview-image.jpg?raw=true \"pipeline overview\")"
   ]
  },
  {
   "cell_type": "markdown",
   "metadata": {},
   "source": [
    "## To this point we have:\n",
    "1. Extracted and calculated HER2 and TNBC status of each patient.\n",
    "2. Extracted count and abundance data for each transcript from those samples.\n",
    "3. Prepped the transcipt count and abundance data.\n",
    "4. Collapsed transcript counts to the gene level.\n",
    "5. Calculated differentially expressed genes using DESeq2\n",
    "\n",
    "## In this notebook we will:\n",
    "1. Annotate the results table to include GeneSymbol and information about abundance\n",
    "2. Visualize the results with a few QC plots\n",
    "3. Generate a heatmap of filtered DEGs\n",
    "\n",
    "___\n",
    "___\n",
    "___"
   ]
  },
  {
   "cell_type": "markdown",
   "metadata": {},
   "source": [
    "## We still need the proper R packages loaded. We will need to start by reloading them with the same code.\n",
    "Of course you can use the typical library() command to load each as well.\n",
    "\n",
    "\n"
   ]
  },
  {
   "cell_type": "code",
   "execution_count": null,
   "metadata": {},
   "outputs": [],
   "source": [
    "#you can very easily use \"install.packages\" or \"biocLite\" to install the packages and \"library\" to load them\n",
    "#however, instead I am installing a package called pacman that will determine if a package is already installed\n",
    "#if it is not it will install it and after will load it\n",
    "#this method is convenient when sharing code that requires the use of others packages\n",
    "\n",
    "if (!require(\"pacman\")) install.packages(\"pacman\")\n",
    "pacman::p_load(R.utils, data.table, tximport, DESeq2, biomaRt, jsonlite, BiocParallel, ggplot2, gplots, RColorBrewer, devtools, pheatmap)\n"
   ]
  },
  {
   "cell_type": "markdown",
   "metadata": {},
   "source": [
    "## Set the working directory to the workspace set up in the previous notebook.\n",
    " You can check to deterimine if you are in the correct directory by examining your working directory. If it is not the proper workspace then change to proper directory.\n"
   ]
  },
  {
   "cell_type": "code",
   "execution_count": null,
   "metadata": {},
   "outputs": [],
   "source": [
    "getwd()"
   ]
  },
  {
   "cell_type": "code",
   "execution_count": null,
   "metadata": {},
   "outputs": [],
   "source": [
    "#only need to run if you are not in the proper working directory.\n",
    "base_dir <- \"/Volumes/Oesterreich\"\n",
    "setwd(base_dir)\n",
    "\n",
    "project_name <- \"TCGA_Her2_TNBC_DEGs\"\n",
    "date <- \"2019_02_06\" #use the same date as notebook 1,2, and 3\n",
    "setwd(project_name)\n",
    "\n",
    "outdir <- \"DESeq_output\" #to save all of the images and final tables\n"
   ]
  },
  {
   "cell_type": "markdown",
   "metadata": {},
   "source": [
    "## Load the necessary files.\n",
    "If you compiled all the Notebooks into one and did not restart the kernel since completing DeSEQ, you can skip this step.\n",
    "\n",
    "For visualization and annotation we will need the following:\n",
    "1. dds (\"her2.tnbc.results.Rda\")\n",
    "2. results files (dataframe - \"her2.tnbc.results.csv\" and results Rda \"her2.tnbc.results.Rda\"))\n",
    "3. gene level TPM abundance file (\"brca.untran.gene.tpm.Rda\")\n",
    "4. final TNBC and HER2 IDs\n",
    "\n",
    "\n",
    "You can load/read these using the code below. **Be sure the commands point to the appropriate directories that contain the data**\n"
   ]
  },
  {
   "cell_type": "code",
   "execution_count": null,
   "metadata": {},
   "outputs": [],
   "source": [
    "#read in dds file after running DESeq. Because it was saved as an Rda we can use the \n",
    "#load() function and it will retain the appropriate variable name\n",
    "load(file = file.path(date, \"her2.tnbc.results.Rda\"))\n",
    "\n",
    "#read in the ordered results csv to the same variable name as when it was created.\n",
    "#note we specify that the first column is the names of the rows and not a data column\n",
    "results.ordered <- read.csv(file = file.path(date, outdir, \"her2.tnbc.results.csv\"), row.names = 1)\n",
    "\n",
    "#load results file as Rda (before made a dataframe, which is used for visualization)\n",
    "load(file = file.path(date, outdir, \"her2.tnbc.results.Rda\"))\n",
    "\n",
    "#read in the abundance data to append to results file\n",
    "load(file = file.path(date, \"brca.untran.gene.tpm.Rda\"))\n",
    "\n",
    "#load final HER2 and TNBC IDs\n",
    "load(file = file.path(date, \"her2.ids.final.Rda\"))\n",
    "load(file = file.path(date, \"tnbc.ids.final.Rda\"))\n",
    "\n"
   ]
  },
  {
   "cell_type": "markdown",
   "metadata": {},
   "source": [
    "___\n",
    "___\n",
    "___"
   ]
  },
  {
   "cell_type": "markdown",
   "metadata": {},
   "source": [
    "# 1. Finalize results output table\n",
    "We need to add information to the DESeq output to help visualize, explore, and export the data. In this section we will:\n",
    "- a. Shrink the log fold change using a statistical function built into DESeq2.\n",
    "- b. Add Gene Symbol and Biotype to the results.\n",
    "- c. Add information about abundance to the results."
   ]
  },
  {
   "cell_type": "markdown",
   "metadata": {},
   "source": [
    "## 1a. Log fold change shrinkage for visualization and ranking\n",
    "Before exploratory visualization of the results, it is proper to use a statistical analysis to shrink the log fold change (LFC) to account for expression. As specified in the [manual](https://bioconductor.org/packages/release/bioc/vignettes/DESeq2/inst/doc/DESeq2.html#the-deseqdataset), \"shrinkage of effect size (LFC estimates) is useful for visualization and ranking of genes. To shrink the LFC, we pass the dds object to the function lfcShrink. Below we specify to use the apeglm method for effect size shrinkage (Zhu, Ibrahim, and Love 2018), which improves on the previous estimator.\" This is particularly useful to eliminate artifically inflated fold change values from genes expressed at a low level. For example, a gene may have only 1 count in HER2 but 100 in TNBC. The fold change would be 100 for this gene, but given that even 100 counts is low, this gene may be below the limits of detection and hence the differences are by chance only. "
   ]
  },
  {
   "cell_type": "code",
   "execution_count": null,
   "metadata": {},
   "outputs": [],
   "source": [
    "#LFC for shrinkage and visualization \n",
    "#this line will tell us the name of the coeficients we can shrink\n",
    "resultsNames(dds)\n"
   ]
  },
  {
   "cell_type": "code",
   "execution_count": null,
   "metadata": {},
   "outputs": [],
   "source": [
    "#LFC for shrinkage and visualization\n",
    "#shrink based on the TNBC vs HER2  coeficient\n",
    "#we found the name of the coeficient in the previous output\n",
    "#type is the statistical test to use. There are multiple ones you can select.\n",
    "results_LFC <- lfcShrink(dds, coef=\"BC_subtype_TNBC_vs_HER2\", type=\"apeglm\")\n",
    "results_LFC.df <- as.data.frame(results_LFC)\n",
    "\n",
    "#save after running to save computational time later\n",
    "save(results_LFC.df, file = file.path(date, outdir, \"results_LFC.Rda\"))\n",
    "\n",
    "#write to table so it can be easily read outside of R\n",
    "write.csv(results_LFC.df, file = file.path(date, outdir, \"results_LFC.df.csv\"))"
   ]
  },
  {
   "cell_type": "markdown",
   "metadata": {},
   "source": [
    "Let's see what the differences look like of the most significant genes"
   ]
  },
  {
   "cell_type": "code",
   "execution_count": null,
   "metadata": {},
   "outputs": [],
   "source": [
    "results_LFC_ordered <- results_LFC.df[order(results_LFC.df$pvalue, na.last = TRUE),]\n",
    "\n",
    "message(\"LFC results\")\n",
    "head(results_LFC_ordered)\n",
    "\n",
    "message(\"raw fold change\")\n",
    "head(results.ordered)"
   ]
  },
  {
   "cell_type": "markdown",
   "metadata": {},
   "source": [
    "## 1b. Use of BiomaRt to convert Ensembl gene Ids to Gene symbol\n",
    "We can use the bioconducter package [biomaRt](https://bioconductor.org/packages/release/bioc/html/biomaRt.html) to convert Ensembl IDs to Gene Symbol, which is the typical format for readable gene names. I highly recommend reading the manual as this package can do many things not discussed in this exercise. \n",
    "\n"
   ]
  },
  {
   "cell_type": "code",
   "execution_count": null,
   "metadata": {},
   "outputs": [],
   "source": [
    "########################################################################################\n",
    "######################## make gene names readable (gene symbol) ########################\n",
    "####################### done through the use of the biomaRt package ####################\n",
    "########################################################################################\n",
    "\n",
    "\n",
    "#set ensembl as dataset from ensembl v81 (gencode v23). same as we used above in Tximport\n",
    "#dataset referst to species\n",
    "#biomart is the specific annotation\n",
    "#version is the version\n",
    "\n",
    "ensembl <- useDataset(dataset = \"hsapiens_gene_ensembl\", mart = useEnsembl(biomart = 'ENSEMBL_MART_ENSEMBL', version = 81))\n",
    "\n",
    "#create list of gene ids to convert\n",
    "geneidlist <- rownames(results_LFC.df)\n",
    "\n",
    "#create data frame with gene id, gene name, gene source, and gene biotype\n",
    "#attributes are what we are searching for. here we want the external gene name and i included gene biotype because it might be interesting to look at coding vs noncoding genes\n",
    "#filters are what we use as input for the query\n",
    "#values are what we want to translate\n",
    "#mart defines what species and verion to use.\n",
    "ensembl.translate <- getBM(attributes = c(\"ensembl_gene_id\", \"external_gene_name\", \"gene_biotype\"), filters = \"ensembl_gene_id\", values = geneidlist, mart = ensembl)\n",
    "row.names(ensembl.translate) <- ensembl.translate$ensembl_gene_id\n",
    "\n",
    "#examine ensembl.translate\n",
    "head(ensembl.translate)\n",
    "\n",
    "\n",
    "\n"
   ]
  },
  {
   "cell_type": "markdown",
   "metadata": {},
   "source": [
    "Now we need to merge this data with our results file and export the intermediate table as a .csv to be easily shared with others."
   ]
  },
  {
   "cell_type": "code",
   "execution_count": null,
   "metadata": {},
   "outputs": [],
   "source": [
    "#merge results w/ ensembl.translate\n",
    "#note row names of results.fdr.threshold are Ensembl geneids\n",
    "results.merged <- merge(results_LFC.df, ensembl.translate, by.x = \"row.names\", by.y = \"ensembl_gene_id\", all.x = TRUE)\n",
    "\n",
    "\n",
    "#set row.names column as actual row names\n",
    "row.names(results.merged) <- results.merged$Row.names\n",
    "\n",
    "#remove 1st column b/c repetitive\n",
    "results.merged <- results.merged[, -1]\n",
    "\n",
    "#order by padj value\n",
    "results.merged.padj <- results.merged[order(results.merged$padj), ]\n",
    "\n",
    "#see the differences between the unmerged and merged data tables\n",
    "#biomart translate table\n",
    "message(\"Ensembl Translate\")\n",
    "head(ensembl.translate)\n",
    "\n",
    "#raw output table\n",
    "message(\"Unmerged output\")\n",
    "head(results_LFC.df)\n",
    "\n",
    "#merged final table\n",
    "message(\"Final merged table\")\n",
    "head(results.merged.padj)\n",
    "\n",
    "#save final merged table\n",
    "write.csv(results.merged.padj, file = file.path(date, outdir, \"gene_symbol_lfc_results.csv\"))\n",
    "\n"
   ]
  },
  {
   "cell_type": "markdown",
   "metadata": {},
   "source": [
    "## 1c. Add abundance information to results file.\n",
    "In our example we arbitrarily filtered out most genes expressed at low levels before we calculated the differentially expressed genes. If you remember, we did this just to decrease the computational time and power needed to perform the analysis. Typically this would not be done. Instead, we often need to include some information about expression in the results table to allow filtering based on expression. A typical cutoff is requiring 10% of samples to be greater than 1 TPM (something that is fairly easy to confirm in the lab). But, an investigator could be more stringent and require the median or a minimum of 1 TPM. Accordingly, we will add the 90th percentile and median of both HER2 and TNBC samples to the data table. \n"
   ]
  },
  {
   "cell_type": "code",
   "execution_count": null,
   "metadata": {},
   "outputs": [],
   "source": [
    "#This block of code uses the gene-level tpm data (brca.untran.gene.tpm) \n",
    "#and the final her2 (her2.ids.final) and tnbc (tnbc.ids.final)ids\n",
    "#that were calculated in Notebook 3. They were reloaded at the beginning of this notebook\n",
    "#in case you started fresh\n",
    "\n",
    "#subset tpm data to just genes in the results file and just the her2 or tnbc samples\n",
    "her2.tpm.df <- brca.untran.gene.tpm[rownames(results.merged.padj), her2.ids.final]\n",
    "tnbc.tpm.df <- brca.untran.gene.tpm[rownames(results.merged.padj), tnbc.ids.final]\n",
    "\n",
    "#confirm that her2.tpm.df and tnbc.tpm.df has the same rows in same order as results.merged.padj\n",
    "message(\"her2.tpm.df data\")\n",
    "nrow(her2.tpm.df)\n",
    "head(her2.tpm.df)\n",
    "\n",
    "message(\"tnbc.tpm.df data\")\n",
    "nrow(tnbc.tpm.df)\n",
    "head(tnbc.tpm.df)\n",
    "\n",
    "message(\"results.merged.padj data\")\n",
    "nrow(results.merged.padj)\n",
    "head(results.merged.padj)\n",
    "\n",
    "\n"
   ]
  },
  {
   "cell_type": "markdown",
   "metadata": {},
   "source": [
    "Because the rows of each are exactly the same we can easily calculate the median and 90th percentile in the HER2 and TNBC specific data frames and add as a column to our results file using the apply function."
   ]
  },
  {
   "cell_type": "code",
   "execution_count": null,
   "metadata": {},
   "outputs": [],
   "source": [
    "#use the apply function to calculate the median and make a new column in the deseq results file\n",
    "results.merged.padj$median_her2 <- apply(her2.tpm.df, 1, median)\n",
    "results.merged.padj$median_tnbc <- apply(tnbc.tpm.df, 1, median)\n",
    "\n",
    "#calculate 90th percentile using quantile function\n",
    "results.merged.padj$ninetieth_percentile_her2 <- apply(her2.tpm.df, 1, function(x) quantile(x, 0.9))\n",
    "results.merged.padj$ninetieth_percentile_tnbc <- apply(tnbc.tpm.df, 1, function(x) quantile(x, 0.9))\n",
    "\n",
    "                                                   \n",
    "#examine the results\n",
    "head(results.merged.padj)\n",
    "                                                   \n",
    "#save the final datatable for export\n",
    "write.csv(results.merged.padj, file = file.path(date, outdir, \"FINAL_annotated_TNBC_HER2_DEG_table.csv\"))\n",
    "                                                   "
   ]
  },
  {
   "cell_type": "markdown",
   "metadata": {},
   "source": [
    "___\n",
    "___\n",
    "___"
   ]
  },
  {
   "cell_type": "markdown",
   "metadata": {},
   "source": [
    "# 2. Visualize the results with a few quality control plots"
   ]
  },
  {
   "cell_type": "markdown",
   "metadata": {},
   "source": [
    "## 2a. If you know anything about the dataseq, a quick first step to check the analysis is to confirm what you know.\n",
    "In this exercise, we know that HER2+ samples should have higher HER2+ (aka ERBB2) expression than TNBC samples. You can find the ensembl ID for HER2 in many different databases including [genecards.org](https://www.genecards.org/cgi-bin/carddisp.pl?gene=ERBB2&keywords=erbb2) to subset the results file based on row, or subset based on the gene symbol name that we added above. The column name is \"external_gene_name.\""
   ]
  },
  {
   "cell_type": "code",
   "execution_count": null,
   "metadata": {},
   "outputs": [],
   "source": [
    "#sanity check to make sure that ERBB2 (HER2) is differentially expressed\n",
    "results.merged.padj[results.merged.padj$external_gene_name == \"ERBB2\", ]\n"
   ]
  },
  {
   "cell_type": "markdown",
   "metadata": {},
   "source": [
    "### Visualize HER2 results.\n",
    "From the above output you can see that HER2 is very significantly different between the two groups with an FDR (p-adj) of e-146. You can also see that the tpm data makes sense as the median of her2 is nearly 10 fold higher than the  median of tnbc. You can visualize this result as well. You could make a dotplot with ggplot using the tpm data, but to demonstrate some of the quick built in functions of DESeq2, we will make a dotplot using the built-in plotCounts function with the dds (immediate output of DESeq) as the input. This creats a dotplot of the count data. This is handy if you want to visualize before you add the abundance data."
   ]
  },
  {
   "cell_type": "code",
   "execution_count": null,
   "metadata": {},
   "outputs": [],
   "source": [
    "#Make a dotplot of HER2 expression\n",
    "\n",
    "#print to screen\n",
    "plotCounts(dds, gene=\"ENSG00000141736\", intgroup = \"BC_subtype\")\n",
    "dev.off()\n",
    "\n",
    "#save graph as tiff to file\n",
    "tiff(file.path(date, outdir, \"HER2_counts_graph.tiff\"))\n",
    "plotCounts(dds, gene=\"ENSG00000141736\", intgroup = \"BC_subtype\")\n",
    "dev.off()\n"
   ]
  },
  {
   "cell_type": "markdown",
   "metadata": {},
   "source": [
    "The dotplot confirms the analysis for HER2 (ERBB2), but other plots are more useful to visualize all the genes at once.\n",
    "\n",
    "## 2b. Generate MA Plots\n",
    "MA plots are a great first visualization of the results because they show on a single graph all genes, their raw expression, LFC, and significance (colored based on a threshold). These are the three features that are typically used when filtering DEGs for downstream analysis. **note** the plotMA function works with the raw output of the results() function in DESeq2 and not on the data tables that were created for export. Hence the use of results_LFC below instead of results.merged.padj. Again this is convenient if you want to visualize QC plots before taking the time to fully annotate the results datatable."
   ]
  },
  {
   "cell_type": "code",
   "execution_count": null,
   "metadata": {},
   "outputs": [],
   "source": [
    "#note this function only works on the output of the results() function in DESeq2 and not on\n",
    "#the dataframe created of the results\n",
    "\n",
    "#MA Plot of corrected LFCs\n",
    "#save to file\n",
    "tiff(file.path(date, outdir, \"MAplot_correctedLFC.tiff\"))\n",
    "plotMA(results_LFC, alpha = 0.001, xlim = c(1, 10000)) #we have an idea of a limit based on the summary performed in Notebook 3\n",
    "dev.off()\n",
    "\n",
    "#print to screen\n",
    "message(\"corrected LFCs\")\n",
    "plotMA(results_LFC, alpha = 0.001, xlim=c(1,10000)) #we have an idea of a limit based on the summary performed in Notebook 3\n",
    "dev.off()\n"
   ]
  },
  {
   "cell_type": "markdown",
   "metadata": {},
   "source": [
    "### Can you tell me why there are no genes with counts under 200?"
   ]
  },
  {
   "cell_type": "markdown",
   "metadata": {},
   "source": [
    "## 2c. Generate Volcano plot\n",
    "A volcano plot is another nice general visualization of your overall results. This graph plots the -log10 padj value as they y-axis and adjusted LFC as the x-axis.\n",
    "**note** this is not a built in function of DESeq2, hence we are using the final results data table to generate the volcano plot"
   ]
  },
  {
   "cell_type": "code",
   "execution_count": null,
   "metadata": {},
   "outputs": [],
   "source": [
    "#volcano plot\n",
    "#graphics.off()\n",
    "alpha <- 0.001 # Threshold on the adjusted p-value\n",
    "cols <- densCols(results.merged.padj$log2FoldChange, -log10(results.merged.padj$padj))\n",
    "\n",
    "tiff(file.path(date, outdir, \"volcano.tiff\"), res = 100)\n",
    "plot(results.merged.padj$log2FoldChange, -log10(results.merged.padj$padj), col=cols, panel.first=grid(),\n",
    "     main=\"Volcano plot\", xlab=\"Effect size: log2(fold-change)\", ylab=\"-log10(adjusted p-value)\",\n",
    "     pch=20, cex=0.6)\n",
    "abline(v=0)\n",
    "abline(v=c(-1,1), col=\"red\")\n",
    "abline(h=-log10(alpha), col=\"red\")\n",
    "dev.off()\n",
    "\n",
    "plot(results.merged.padj$log2FoldChange, -log10(results.merged.padj$padj), col=cols, panel.first=grid(),\n",
    "     main=\"Volcano plot\", xlab=\"Effect size: log2(fold-change)\", ylab=\"-log10(adjusted p-value)\",\n",
    "     pch=20, cex=0.6)\n",
    "abline(v=0)\n",
    "abline(v=c(-1,1), col=\"red\") #this makes a vertical line equivalent to a fold change of 2, you can change this if you'd like\n",
    "abline(h=-log10(alpha), col=\"red\") #this makes a horizontal line equivalent to the alpha that we set (p-adj <= 0.001)\n",
    "dev.off()"
   ]
  },
  {
   "cell_type": "markdown",
   "metadata": {},
   "source": [
    "This helps to show that there are roughly an equivalent number of genes that are upregulated and downregulated in the two groups, but there is one gene that is dramatically downregulated (~256 fold). The redlines also set markers to visualize the number of genes that might be considered as differentially expressed. Here we set a fold change of 2 and an adj pvalue of 0.001. All of the genes represented in the upper right and upper left rectangles are the differentially expressed genes at these conditions. This graph also shows that there are quite a few genes with very low padj values with small fold changes. In fact, it seems that most genes have a padj of below 0.001. You could make a histogram of padj values to make an informed decision of setting a threshold. \n",
    "\n",
    "This volcano plaot can also be altered to change the color of the significant genes, or even add the names of the genes if you'd like. Let's add gene symbol of highly significant genes to the volcano plot."
   ]
  },
  {
   "cell_type": "markdown",
   "metadata": {},
   "source": [
    "### Now add gene names of highly significant genes to the volcano plot.\n",
    "We will use a log2 fold change of 2 and padj <1e-50 as filters to not overcrowd the plot with gene names."
   ]
  },
  {
   "cell_type": "code",
   "execution_count": null,
   "metadata": {},
   "outputs": [],
   "source": [
    "#select genes with absolute value of LFC >=2 and padj <= 1e-50\n",
    "#this will be used to add the names of just these genes\n",
    "gn.selected <- abs(results.merged.padj$log2FoldChange) >= 2 & results.merged.padj$padj <= 1e-50 \n",
    "\n",
    "#same code as above to generate volcano plot\n",
    "alpha <- 0.001 # Threshold on the adjusted p-value\n",
    "cols <- densCols(results.merged.padj$log2FoldChange, -log10(results.merged.padj$padj))\n",
    "\n",
    "tiff(file.path(date, outdir, \"volcano_with_names.tiff\"), res = 100)\n",
    "plot(results.merged.padj$log2FoldChange, -log10(results.merged.padj$padj), col=cols, panel.first=grid(),\n",
    "     main=\"Volcano plot\", xlab=\"Effect size: log2(fold-change)\", ylab=\"-log10(adjusted p-value)\",\n",
    "     pch=20, cex=0.6)\n",
    "abline(v=0)\n",
    "abline(v=c(-1,1), col=\"red\")\n",
    "abline(h=-log10(alpha), col=\"red\")\n",
    "\n",
    "#add names to volcano plot\n",
    "text(results.merged.padj$log2FoldChange[gn.selected],\n",
    "     -log10(results.merged.padj$padj)[gn.selected],\n",
    "     lab=results.merged.padj$external_gene_name[gn.selected], cex=0.4)\n",
    "\n",
    "dev.off()\n",
    "\n",
    "plot(results.merged.padj$log2FoldChange, -log10(results.merged.padj$padj), col=cols, panel.first=grid(),\n",
    "     main=\"Volcano plot\", xlab=\"Effect size: log2(fold-change)\", ylab=\"-log10(adjusted p-value)\",\n",
    "     pch=20, cex=0.6)\n",
    "abline(v=0)\n",
    "abline(v=c(-1,1), col=\"red\") #this makes a vertical line equivalent to a fold change of 2, you can change this if you'd like\n",
    "abline(h=-log10(alpha), col=\"red\") #this makes a horizontal line equivalent to the alpha that we set (p-adj <= 0.001)\n",
    "#dev.off()\n",
    "\n",
    "#add names to volcano plot\n",
    "text(results.merged.padj$log2FoldChange[gn.selected],\n",
    "     -log10(results.merged.padj$padj)[gn.selected],\n",
    "     lab=results.merged.padj$external_gene_name[gn.selected], cex=0.4)\n",
    "\n",
    "dev.off()"
   ]
  },
  {
   "cell_type": "markdown",
   "metadata": {},
   "source": [
    "**note** Now we can easily see that ERBB2 has the smallest padj and CPB1 is the gene that has the largest fold change."
   ]
  },
  {
   "cell_type": "markdown",
   "metadata": {},
   "source": [
    "## 2d. Visualizing sample to sample variability from counts data\n",
    "\n",
    "### Transformation of raw counts for visualization\n",
    "To calculate differential expressed genes, it is critical to use raw count data. However, for downstream analysis and visualization it is often advantageous to transform the data. We could use our log2 TPM data to generate the PCA plot, but instead I would like to introduce you to built in DESeq2 functions to create an accurate PCA plot from counts. \n",
    "\n",
    "There are a couple of methods that we can use to normalize counts to do this. Variance stabilizing transformations (VST) (Tibshirani 1988; Huber et al. 2003; Anders and Huber 2010) produce transformed data on the log2 scale which has been normalized with respect to library size and thus has a slight advantage. The point of VST is to remove the dependence of the variance on the mean, particularly the high variance of the logarithm of count data when the mean is low. \n",
    "\n",
    "DESeq2 contains a VST function. We will perform a blinded VST on the dds to generate QC plots that test sample variance.\n"
   ]
  },
  {
   "cell_type": "code",
   "execution_count": null,
   "metadata": {},
   "outputs": [],
   "source": [
    "#transform count data (variance stabilizing transformation) to aid in visualization\n",
    "vsd <- vst(dds)\n",
    "\n",
    "#make vsd into a dataframe and save\n",
    "vsd.df <- as.data.frame(assay(vsd))\n",
    "write.csv(vsd.df, file = file.path(date, outdir, \"vst.txt\"))"
   ]
  },
  {
   "cell_type": "markdown",
   "metadata": {},
   "source": [
    "### Create PCA plot with VST values\n",
    "PCA plots show the samples in the 2D plane spanned by their first two principal components. This type of plot is useful for visualizing the overall effect of experimental covariates and batch effects (text from DESeq manual)."
   ]
  },
  {
   "cell_type": "code",
   "execution_count": null,
   "metadata": {},
   "outputs": [],
   "source": [
    "#create PCA plot with variance stabilizing transformation values \n",
    "#this code saves the image to file\n",
    "tiff(file.path(date, outdir, \"PCA_vst.tiff\"))\n",
    "pcaData <- plotPCA(vsd, returnData = TRUE, intgroup=\"BC_subtype\")\n",
    "percentVar <- round(100 * attr(pcaData, \"percentVar\"))\n",
    "ggplot(pcaData, aes(PC1, PC2, color=BC_subtype)) +\n",
    "  geom_point(size=2) +\n",
    "  # geom_text(aes(label=name),hjust=0.3, vjust=0.1) + #use this line if you want to display sample names over points\n",
    "  xlab(paste0(\"PC1: \",percentVar[1],\"% variance\")) +\n",
    "  ylab(paste0(\"PC2: \",percentVar[2],\"% variance\")) + \n",
    "  coord_fixed()\n",
    "dev.off()\n",
    "\n",
    "#this code block prints the PCA block to screen\n",
    "ggplot(pcaData, aes(PC1, PC2, color=BC_subtype)) +\n",
    "  geom_point(size=2) +\n",
    "  # geom_text(aes(label=name),hjust=0.3, vjust=0.1) + #use this line if you want to display sample names over points\n",
    "  xlab(paste0(\"PC1: \",percentVar[1],\"% variance\")) +\n",
    "  ylab(paste0(\"PC2: \",percentVar[2],\"% variance\")) + \n",
    "  coord_fixed()\n",
    "dev.off()\n",
    "\n"
   ]
  },
  {
   "cell_type": "markdown",
   "metadata": {},
   "source": [
    "**note** For the most part there is a clear separation between HER2+ and TNBC samples. This demonstrates that the subtypes are very different, in fact they almost look like completely different diseases. However, there are a few HER2 samples that look similar to TNBC and a few TNBC that look like HER2. This could indicate that the clinical data was wrong or the diagnosis was wrong. Perhaps RNAseq values from 1000s of genes is more sensitive for diagnosis than a single FISH or IHC result of HER2. However, this result could be biological. There could be some HER2 samples that behave as TNBC. If this is the case, the patients with those tumors might not respond to targeted HER2 therapy. Likewise, perhaps some TNBC tumors behave like HER2 samples."
   ]
  },
  {
   "cell_type": "markdown",
   "metadata": {},
   "source": [
    "# 3. Generate Heatmaps using top differentially expressed genes\n",
    "Finally, to bring everything together, we will generate heatmaps with the top differentially expressed genes with different filtering levels based on expression, fold change, and significance. \n",
    "There are multiple tools to generate heat maps. In this tutorial we will use [heatmap.3] (https://www.rdocumentation.org/packages/GMD/versions/0.3.3/topics/heatmap.3), which is a varient of gplots heatmap.2. I suggest reading the manual to understand all options. We will create the heatmap from  the more traditional abundance (TPM) data that we already downloaded and processed but a heatmap could be made from the vst data as well. \n",
    "\n",
    "First install heatmap.3."
   ]
  },
  {
   "cell_type": "code",
   "execution_count": null,
   "metadata": {},
   "outputs": [],
   "source": [
    "#install heatmap.3 from source\n",
    "#the output will give you an SHA-1 hash of the file\n",
    "source_url(\"https://raw.githubusercontent.com/obigriffith/biostar-tutorials/master/Heatmaps/heatmap.3.R\")"
   ]
  },
  {
   "cell_type": "markdown",
   "metadata": {},
   "source": [
    "## Filter significant DEGs\n",
    "Through DESeq, we identified the differentially expressed genes. However, it is customary to narrow this list by applying a few filters based on:\n",
    "1) Expression\n",
    "2) Fold Change\n",
    "3) Significance\n",
    "\n",
    "We first will filter by expression because genes expressed at low levels are the noisiest in RNAseq and the most difficult to validate through wet-lab experiments. In my hands, genes with a TPM of 1 are readily validated. Typically, I use 0.5-1TPM as my cutoff, and typically will filter if expressed below that in >90% of samples. While the cutoffs will largely depend on your choices and dataset, for this exercise, we will filter genes that are expressed less than TPM of 1 at the 90th percentile in either TNBC or HER2 positive. \n",
    "\n",
    "Fold change filters are typically set at 1.5 or 2.0\n",
    "\n",
    "Significane thresholds are typically at least <0.01 padj...but in a large dataset like this, smaller thresholds are common."
   ]
  },
  {
   "cell_type": "code",
   "execution_count": null,
   "metadata": {},
   "outputs": [],
   "source": [
    "#Filter by expression. To do this we will use the tpm values that we downloaded and collapsed to gene level earlier\n",
    "\n",
    "#filter based on minimum 90th percentile expression of tpm of 1 in HER2 or TNBC samples\n",
    "exp.cutoff <- 1\n",
    "results.sig.exp <- results.merged.padj[results.merged.padj$ninetieth_percentile_her2 >= exp.cutoff | results.merged.padj$ninetieth_percentile_tnbc >= exp.cutoff, ]\n",
    "\n",
    "#filter based on FC of greater than 1.5 or less than -1.5\n",
    "fc.cutoff <- 1.5\n",
    "results.sig.exp.fc <- results.sig.exp[(2^results.sig.exp$log2FoldChange >= fc.cutoff) | (2^results.sig.exp$log2FoldChange <= 1/fc.cutoff), ]\n",
    "\n",
    "#filter with a padj of 0.001\n",
    "padj.cutoff <- 0.001\n",
    "results.sig.exp.fc.padj <- results.sig.exp.fc[results.sig.exp.fc$padj <= padj.cutoff, ]\n",
    "\n",
    "#Determine the number of significant genes that pass the filters\n",
    "numSigGenes <- nrow(results.sig.exp.fc.padj)\n",
    "message(\"Number of significant genes\")\n",
    "numSigGenes\n",
    "\n",
    "#Number of significantly upregulated genes\n",
    "message(\"Number of significantly upregulated genes\")\n",
    "nrow(results.sig.exp.fc.padj[(2^results.sig.exp$log2FoldChange >= fc.cutoff), ])\n",
    "\n",
    "\n",
    "#Number of significantly downregulated genes\n",
    "message(\"Number of significantly downregulated genes\")\n",
    "nrow(results.sig.exp.fc.padj[(2^results.sig.exp$log2FoldChange <= 1/fc.cutoff), ])\n",
    "\n",
    "#determine the names of the genes\n",
    "filtered.genes <- row.names(results.sig.exp.fc.padj)\n",
    "\n",
    "#save the table of significant genes that can then be imported into a pathway analysis software or explored in greater depth \n",
    "write.csv(results.sig.exp.fc.padj, file = file.path(date, outdir, \"her2vstnbc_0.001p_fc1.5_exp90_1.csv\"))\n",
    "\n",
    "\n"
   ]
  },
  {
   "cell_type": "markdown",
   "metadata": {},
   "source": [
    "Note that the number of significant genes is less than the original summary of the output at the end of Notebook 3. That summary stated 3996 genes were significantly upregulated and 3375 genes were signfinicantly downregulated. At the end of this notebook, you will adjust the filtering levels to create a 'stringent' table of DE genes."
   ]
  },
  {
   "cell_type": "markdown",
   "metadata": {},
   "source": [
    "## Create the heatmap\n",
    "See comments for rationale behind the code"
   ]
  },
  {
   "cell_type": "code",
   "execution_count": null,
   "metadata": {},
   "outputs": [],
   "source": [
    "#To visualize our DESeq and filtering results, we need to create a matrix (not a dataframe) \n",
    "#of abundance (tpm) of all samples (HER2+/TNBC her2.ids.final and tnbc.ids.final) \n",
    "#and all genes that are significantly different and pass filtering criteria (filtered.genes)\n",
    "#remember her2.tpm.df is unlogged tpm data we generated above from all her2 samples\n",
    "#the same is true of tnbc.tpm.df\n",
    "\n",
    "hm.her2.tpm.filtered <- her2.tpm.df[filtered.genes, ]\n",
    "hm.tnbc.tpm.filtered <- tnbc.tpm.df[filtered.genes, ]\n",
    "hm.tpm.filtered.combined <- cbind(hm.her2.tpm.filtered, hm.tnbc.tpm.filtered)\n",
    "\n",
    "#for visualization purposes, tpm data is often better log2 transformed\n",
    "#note we need to add a small value to each tpm so that we do not try to log 0\n",
    "hm.log.tpm <- log2(hm.tpm.filtered.combined + 0.001)\n",
    "\n",
    "#likewise median centering the rows allows for easier visualization and interpration\n",
    "\n",
    "#rowMedians calculates the median of each row. we then subtract the median from every value\n",
    "row.medians <- rowMedians(as.matrix(hm.log.tpm))\n",
    "hm.log.median.centered.tpm <- hm.log.tpm - row.medians\n",
    "\n",
    "#check all of the transformations\n",
    "message(\"untransformed\")\n",
    "head(hm.tpm.filtered.combined)\n",
    "\n",
    "message(\"log2 transformed\")\n",
    "head(hm.log.tpm)\n",
    "\n",
    "message(\"median centered rows\")\n",
    "head(hm.log.median.centered.tpm)\n",
    "row.medians[1:6]\n"
   ]
  },
  {
   "cell_type": "code",
   "execution_count": null,
   "metadata": {},
   "outputs": [],
   "source": [
    "#we need to establish colors for her2 and tnbc to label the columns (samples) as we have \n",
    "#too many samples to read the names\n",
    "#in this command we establish that green represents her2 and red tnbc\n",
    "#we also establish how many her2 and tnbc samples there are using the rep (repeat) command\n",
    "colcolors <- cbind(subtype = c(rep(\"green\", ncol(hm.her2.tpm.filtered)), rep(\"red\", ncol(hm.tnbc.tpm.filtered))))\n",
    "\n",
    "#next we need to establish what the colors in the heatmap represent and how many colors to use\n",
    "#breaks establishes how many colors. in this case we go from -2 to 2 by 0.05.\n",
    "#-2 and 2 were selected as they will show all samples greater than 4 fold from the median as dark colors\n",
    "#samples closer to the median will have a duller color\n",
    "#these numbers can be altered for best visualization purposes\n",
    "breaks <- seq(-2, 2, by = 0.05)\n",
    "\n",
    "#this command establishes what colors to use. In this example values around the median will be black\n",
    "#higher than the median yellow, and lower than the median will be blue.\n",
    "#the colorpanel command helps break all of the colors into different gradients based on the number of breaks\n",
    "#note that you can change the colors\n",
    "#also note that there are only so many different versions of each color\n",
    "col<- colorpanel(n = length(breaks) - 1, low = \"blue\", mid = \"black\", high = \"yellow\")\n",
    "\n",
    "\n",
    "#heatmap of filtered genes clustering both by gene and sample\n",
    "#tpm data has to be a matrix\n",
    "#ColSideColors establishes color for each column as defined in colcolors\n",
    "#breaks and col are described and defined above\n",
    "#note that because we have so many genes and samples the labels cannot be read, so we removed them with the labRow, LabCol options.\n",
    "#dendogram tells heatmap to do clustering on rows, columns, both, or neither\n",
    "#density info places a histogram in the legend to see the frequency of genes at each level\n",
    "heatmap.3(as.matrix(hm.log.median.centered.tpm), ColSideColors = colcolors, breaks = breaks, col = col, dendrogram = \"both\", density.info = \"histogram\", labRow = FALSE, labCol = FALSE)\n",
    "legend(x=0.96, y=0.84, xpd = TRUE, title = \"Subtype\", legend=c(\"HER2\",\"TNBC\"), fill=c(\"green\",\"red\"), border=FALSE, bty=\"n\", cex=0.6, y.intersp = 0.7, inset = 0.1)\n",
    "dev.off()\n",
    "\n",
    "\n",
    "#code below is the same but saves the heatmap to file\n",
    "tiff(file.path(date, outdir, \"DEGs_heatmap_0.001padj_1.5FC_1tpm_90thpercentile.tiff\"))\n",
    "heatmap.3(as.matrix(hm.log.median.centered.tpm), ColSideColors = colcolors, breaks = breaks, col = col, dendrogram = \"both\", density.info = \"histogram\", labRow = FALSE, labCol = FALSE)\n",
    "legend(x=0.96, y=0.84, xpd = TRUE, title = \"Subtype\", legend=c(\"HER2\",\"TNBC\"), fill=c(\"green\",\"red\"), border=FALSE, bty=\"n\", cex=0.6, y.intersp = 0.7, inset = 0.1)\n",
    "dev.off()\n",
    "\n"
   ]
  },
  {
   "cell_type": "markdown",
   "metadata": {},
   "source": [
    "The heatmap demonstrates that with the filtered list of differentially expressed genes, the samples largely cluster based on breast cancer subtype. However, there are still a few outliers. This is a similar result to the PCA plot of the counts data. The heatmap also demonstrates that there is roughly the same number of up and down-regulated genes in the filtered set."
   ]
  },
  {
   "cell_type": "markdown",
   "metadata": {},
   "source": [
    "## What can we do with the results?\n",
    "The answer to this goes beyond the goals of this notebook. However, it is quite common to see if the DEGs are enriched in any biological or clinically actionable pathways. This can be done through Gene Set Enrichment Analysis (GSEA) or with other pathway analysis tools such as Ingenuity Pathway Analysis. Another option is to use the DEGs as features in a causal discovery or some other machine learning problem. An example of a nice causal discovery tool is [Tetrad](http://www.phil.cmu.edu/tetrad/) developed out of Pitt and CMU in the Center for Causal Discovery. There is even another github exercise at the DBMI that is in development on how to perform caucal analysis with Tetrad."
   ]
  },
  {
   "cell_type": "markdown",
   "metadata": {},
   "source": [
    "___\n",
    "___\n",
    "___"
   ]
  },
  {
   "cell_type": "markdown",
   "metadata": {},
   "source": [
    "## In the code box below change the expression, fold change, and padj cutoffs to determine which cutoff used above is the most stringent\n",
    "\n",
    "1. What are the number of significant genes if fold change cutoff is 2.0, but other paramaters above are the same?\n",
    "2. What are the number of significant genes if padj.cutoff is set to 0.00000000001, but other paramaters above are the same?\n",
    "3. What are the number of significant genes if exp.cutoff is 1 for a MINIMUM instead of median in either TNBC or HER2? *note min is a function in R.\n",
    "\n",
    "create a final dataframe named results.stringent with all 3 of these thresholds."
   ]
  },
  {
   "cell_type": "code",
   "execution_count": null,
   "metadata": {},
   "outputs": [],
   "source": []
  },
  {
   "cell_type": "markdown",
   "metadata": {},
   "source": [
    "## Now you make a heatmap of results.stringent\n",
    "compare and contrast the two heatmaps."
   ]
  },
  {
   "cell_type": "code",
   "execution_count": null,
   "metadata": {},
   "outputs": [],
   "source": []
  }
 ],
 "metadata": {
  "kernelspec": {
   "display_name": "R",
   "language": "R",
   "name": "ir"
  },
  "language_info": {
   "codemirror_mode": "r",
   "file_extension": ".r",
   "mimetype": "text/x-r-source",
   "name": "R",
   "pygments_lexer": "r",
   "version": "3.5.1"
  }
 },
 "nbformat": 4,
 "nbformat_minor": 2
}
